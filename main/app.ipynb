{
 "cells": [
  {
   "cell_type": "code",
   "execution_count": null,
   "id": "ab9a7606",
   "metadata": {},
   "outputs": [],
   "source": [
    "# pip install python-dotenv\n",
    "# pip install psycopg2-binary"
   ]
  },
  {
   "cell_type": "code",
   "execution_count": null,
   "id": "d1c71db2",
   "metadata": {},
   "outputs": [],
   "source": [
    "import os\n",
    "import requests\n",
    "from dotenv import load_dotenv\n",
    "import psycopg2\n",
    "\n",
    "#env 파일 환경변수 로드\n",
    "load_dotenv() \n",
    "\n",
    "# KaKao API 설정\n",
    "KAKAO_API_KEY = os.getenv(\"KAKAO_REST_API_KEY\")\n",
    "headers = { \"Authorization\": f\"KakaoAK {KAKAO_API_KEY}\" }\n",
    "params = {\"query\":\"홍대 카페\",\"size\":10}\n",
    "url = \"https://dapi.kakao.com/v2/local/search/keyword.json\"\n",
    "\n",
    "res = requests.get(url,headers=headers, params=params)\n",
    "data = res.json()\n",
    "\n",
    "for place in data['documents']:\n",
    "    print(place['place_name'], place['address_name'])"
   ]
  },
  {
   "cell_type": "code",
   "execution_count": null,
   "id": "4725e52e",
   "metadata": {},
   "outputs": [],
   "source": [
    "# PostgreSQL 연결 설정\n",
    "\n",
    "conn = psycopg2.connet(\n",
    "    dbname=os.getenv(\"DB_NAME\")\n",
    "    user=os.getenv(\"DB_USER\")\n",
    "    password=os.getenv(\"DB_PASSWORD\")\n",
    "    host=os.getenv(\"DB_HOST\")\n",
    "    port=os.getenv(\"DB_PORT\")\n",
    ")"
   ]
  }
 ],
 "metadata": {
  "kernelspec": {
   "display_name": "base",
   "language": "python",
   "name": "python3"
  },
  "language_info": {
   "codemirror_mode": {
    "name": "ipython",
    "version": 3
   },
   "file_extension": ".py",
   "mimetype": "text/x-python",
   "name": "python",
   "nbconvert_exporter": "python",
   "pygments_lexer": "ipython3",
   "version": "3.11.7"
  }
 },
 "nbformat": 4,
 "nbformat_minor": 5
}

{
 "cells": [
  {
   "cell_type": "code",
   "execution_count": 5,
   "id": "273b24e2",
   "metadata": {},
   "outputs": [],
   "source": [
    "from db_connect import db_connect\n",
    "import psycopg2\n",
    "import os\n",
    "from sklearn.ensemble import RandomForestRegressor\n",
    "from sklearn.model_selection import train_test_split\n",
    "from sklearn.preprocessing import LabelEncoder\n",
    "from sklearn.metrics import mean_squared_error\n",
    "import pandas as pd"
   ]
  },
  {
   "cell_type": "code",
   "execution_count": null,
   "id": "20b5a3f8",
   "metadata": {},
   "outputs": [
    {
     "name": "stdout",
     "output_type": "stream",
     "text": [
      "DB connect 성공\n"
     ]
    },
    {
     "name": "stderr",
     "output_type": "stream",
     "text": [
      "C:\\Users\\hyunsu\\AppData\\Local\\Temp\\ipykernel_22496\\3276972236.py:5: UserWarning: pandas only supports SQLAlchemy connectable (engine/connection) or database string URI or sqlite3 DBAPI2 connection. Other DBAPI2 objects are not tested. Please consider using SQLAlchemy.\n",
      "  df= pd.read_sql(\"SELECT * FROM cafe WHERE congestion_score IS NOT NULL\",conn)\n"
     ]
    }
   ],
   "source": [
    "# DB 연결\n",
    "cur,conn=db_connect()\n",
    "\n",
    "# 데이터 프레임으로 불러오기\n",
    "df= pd.read_sql(\"SELECT * FROM cafe WHERE congestion_score IS NOT NULL\",conn)\n",
    "df.replace([float('inf'), float('-inf')],pd.NA, inplace=True)\n",
    "\n",
    "cur.close()\n",
    "conn.close()\n",
    "\n",
    "# region 컬럼 추가\n",
    "df['region']=df['address'].apply(lambda x: x.split()[1] if x and len(x.split()) > 1 else None)"
   ]
  },
  {
   "cell_type": "code",
   "execution_count": 15,
   "id": "452e3095",
   "metadata": {},
   "outputs": [
    {
     "name": "stdout",
     "output_type": "stream",
     "text": [
      "MSE: 0.01978695652173911\n"
     ]
    },
    {
     "name": "stderr",
     "output_type": "stream",
     "text": [
      "C:\\Users\\hyunsu\\AppData\\Local\\Temp\\ipykernel_22496\\2955728502.py:13: DataConversionWarning: A column-vector y was passed when a 1d array was expected. Please change the shape of y to (n_samples,), for example using ravel().\n",
      "  model.fit(x_train,y_train)\n"
     ]
    }
   ],
   "source": [
    "# 전처리\n",
    "df = df.dropna(subset=['review_count','congestion_score'])\n",
    "\n",
    "le_region = LabelEncoder()\n",
    "df['region_encoded'] = le_region.fit_transform(df['region'])\n",
    "\n",
    "x = df[['review_count', 'region_encoded']]\n",
    "y = df[['congestion_score']]\n",
    "\n",
    "# 모델 학습\n",
    "x_train, x_test, y_train, y_test = train_test_split(x,y,test_size=0.2,random_state=42)\n",
    "model = RandomForestRegressor()\n",
    "model.fit(x_train,y_train)\n",
    "\n",
    "# 모델 평가\n",
    "y_pred = model.predict(x_test)\n",
    "print(\"MSE:\",mean_squared_error(y_test,y_pred))"
   ]
  },
  {
   "cell_type": "code",
   "execution_count": null,
   "id": "1a62e108",
   "metadata": {},
   "outputs": [
    {
     "data": {
      "text/plain": [
       "region\n",
       "강남구     167\n",
       "마포구     118\n",
       "용산구     112\n",
       "서대문구     95\n",
       "종로구      90\n",
       "성동구      54\n",
       "광진구      53\n",
       "중구        1\n",
       "Name: count, dtype: int64"
      ]
     },
     "execution_count": 14,
     "metadata": {},
     "output_type": "execute_result"
    }
   ],
   "source": [
    "df[df['region']=='강남구'].sort_values('review_count',ascending=False).head(5)"
   ]
  },
  {
   "cell_type": "code",
   "execution_count": null,
   "id": "12e0c7fc",
   "metadata": {},
   "outputs": [],
   "source": []
  }
 ],
 "metadata": {
  "kernelspec": {
   "display_name": "base",
   "language": "python",
   "name": "python3"
  },
  "language_info": {
   "codemirror_mode": {
    "name": "ipython",
    "version": 3
   },
   "file_extension": ".py",
   "mimetype": "text/x-python",
   "name": "python",
   "nbconvert_exporter": "python",
   "pygments_lexer": "ipython3",
   "version": "3.11.7"
  }
 },
 "nbformat": 4,
 "nbformat_minor": 5
}

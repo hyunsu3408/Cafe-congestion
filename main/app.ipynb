{
 "cells": [
  {
   "cell_type": "code",
   "execution_count": 1,
   "id": "ab9a7606",
   "metadata": {},
   "outputs": [],
   "source": [
    "# pip install python-dotenv\n",
    "# pip install psycopg2-binary\n",
    "# pip install selenium\n",
    "# pip install selenium-manager"
   ]
  },
  {
   "cell_type": "code",
   "execution_count": 7,
   "id": "d1c71db2",
   "metadata": {},
   "outputs": [],
   "source": [
    "import os\n",
    "import requests\n",
    "from dotenv import load_dotenv\n",
    "import psycopg2\n",
    "import re\n",
    "import time\n",
    "from db_connect import db_connect\n",
    "from db import save_cafe_db,fetch_all_cafe,cafe_region_db\n",
    "from congestion import compute_congestion_score\n",
    "\n",
    "\n",
    "\n",
    "#env 파일 환경변수 로드\n",
    "# load_dotenv() \n",
    "\n",
    "# # KaKao API 설정\n",
    "# KAKAO_API_KEY = os.getenv(\"KAKAO_REST_API_KEY\")\n",
    "# headers = { \"Authorization\": f\"KakaoAK {KAKAO_API_KEY}\" }\n",
    "# url = \"https://dapi.kakao.com/v2/local/search/keyword.json\""
   ]
  },
  {
   "cell_type": "code",
   "execution_count": null,
   "id": "bb7f8036",
   "metadata": {},
   "outputs": [],
   "source": [
    "# 지역 별 카페 DB에 저장\n",
    "cafe_region_db()"
   ]
  },
  {
   "cell_type": "code",
   "execution_count": 9,
   "id": "54c5b280",
   "metadata": {},
   "outputs": [
    {
     "name": "stdout",
     "output_type": "stream",
     "text": [
      "DB connect 성공\n",
      "브라우저 실행 성공\n",
      "블로그 텍스트: 블로그67개\n",
      "크롤링 성공 67\n",
      "[1] 블로그 리뷰 수: 67\n",
      "4\n"
     ]
    }
   ],
   "source": [
    "from selenium import webdriver\n",
    "from selenium.webdriver.chrome.service import Service\n",
    "from selenium.webdriver.common.by import By\n",
    "from webdriver_manager.chrome import ChromeDriverManager\n",
    "from selenium.webdriver.support.ui import WebDriverWait\n",
    "from selenium.webdriver.support import expected_conditions as EC\n",
    "\n",
    "cur, conn = db_connect()\n",
    "\n",
    "# 크롤링\n",
    "def crawl_place_info(place_url):\n",
    "    \n",
    "    \n",
    "    options = webdriver.ChromeOptions()\n",
    "    options.add_argument('--headless')\n",
    "    options.add_argument('--no-sandbox')\n",
    "    options.add_argument('--disable-dev-shm-usage')\n",
    "    \n",
    "    try:\n",
    "        driver=webdriver.Chrome(service=Service(ChromeDriverManager().install()),options=options)\n",
    "        driver.get(place_url)\n",
    "        time.sleep(10)\n",
    "        \n",
    "        print(\"브라우저 실행 성공\")\n",
    "        wait = WebDriverWait(driver,20)\n",
    "    \n",
    "        blog_element = wait.until(EC.presence_of_element_located((By.CSS_SELECTOR,'a.link_blog')))\n",
    "        text = blog_element.get_attribute(\"textContent\")\n",
    "        if text:\n",
    "            print(\"블로그 텍스트:\",text.strip())\n",
    "            match = re.search(r'블로그\\s*(\\d+)',text.strip())\n",
    "            if match:\n",
    "                print(\"크롤링 성공\",match.group(1))\n",
    "                return int(match.group(1))\n",
    "            else:\n",
    "                print(\"리뷰 없음\")\n",
    "                return 0\n",
    "        else:\n",
    "            print(\"정규식 불일치 - 리뷰 없음\")\n",
    "            return 0\n",
    "    except Exception as e:\n",
    "        print(\"크롤링 실패\",e)\n",
    "        return None\n",
    "    \n",
    "    finally:\n",
    "        driver.quit()\n",
    "\n",
    "cur.execute(\"SELECT id, place_url FROM cafe Limit 1\")\n",
    "rows = cur.fetchall()\n",
    "\n",
    "for cafe_id, place_url in rows:\n",
    "    count = crawl_place_info(place_url)\n",
    "    if count is None:\n",
    "        count = 0\n",
    "    print(f\"[{cafe_id}] 블로그 리뷰 수: {count}\")\n",
    "    \n",
    "    # 블로그 리뷰 기준으로 혼잡도 계산    \n",
    "    print(compute_congestion_score(count))\n",
    "    \n",
    "    time.sleep(1)\n",
    "    \n",
    "cur.close()\n",
    "conn.close()"
   ]
  },
  {
   "cell_type": "code",
   "execution_count": null,
   "id": "0fa0c5c7",
   "metadata": {},
   "outputs": [],
   "source": []
  }
 ],
 "metadata": {
  "kernelspec": {
   "display_name": "base",
   "language": "python",
   "name": "python3"
  },
  "language_info": {
   "codemirror_mode": {
    "name": "ipython",
    "version": 3
   },
   "file_extension": ".py",
   "mimetype": "text/x-python",
   "name": "python",
   "nbconvert_exporter": "python",
   "pygments_lexer": "ipython3",
   "version": "3.11.7"
  }
 },
 "nbformat": 4,
 "nbformat_minor": 5
}
